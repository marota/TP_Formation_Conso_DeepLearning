{
 "cells": [
  {
   "cell_type": "markdown",
   "metadata": {},
   "source": [
    "# TP2 Prévision de consommation avec réseau de neurones\n",
    "\n",
    "\n",
    "<img src=\"pictures/Présentation_FormationIA_TPDeepLearning.png\" width=1000 height=60>\n",
    "\n",
    "**Dans l'épisode précédent**  \n",
    "\n",
    "Nos modèles de régression par décomposition saisonnière du TP1 avec la librairie Prophet nous ont donné des premiers résultats et des premières intuitions sur notre problème de prévision de consommation pour le lendemain. \n",
    "\n",
    "Nous avons pu analyser des profils de courbe de consommation au jour, à la semaine, au mois. Nous avons également observé la dépendance entre la consommation et la consommation retardée. Nous avons aussi vu l'impact des jours fériés. En intégrant ces différents facteurs nous sommes arrivés à une erreur moyenne de test de 4,1%.\n",
    "\n",
    "Nous avons ensuite utilisé de premiers modèles en machine learning pour apprendre par observations l'influence de différents contextes sur la consommation sans les décrires explicitement selon des lois. \n",
    "Des difficultés se sont posées pour intégrer les variables météorologiques très dépendantes entre elles et pour intégrer un vecteur de consommation retardée.\n",
    "\n",
    "Avec l'approche classique exposée dans ce TP1, nous avons en particulier constaté le besoin d'une expertise et d'un travail autour des variables explicatives pour obtenir un modèle performant.\n",
    "\n"
   ]
  },
  {
   "cell_type": "markdown",
   "metadata": {},
   "source": [
    "**Aujourd'hui** \n",
    "\n",
    "Nous allons de nouveau nous attaquer à ce sujet de la prévision de consommation nationale pour le lendemain, mais cette fois en utilisant un modèle de prévision par réseau de neurones. Nous allons exploiter leur capacité à capter ces phénomènes non-linéaires et interdépendants. Nous allons mettre en évidence le moindre besoin en feature engineering en travaillant directement à la granularité de la donnée,sans créer de variables agrégées ou transformées par de l'expertise.\n",
    "\n",
    "**Ce que vous allez voir dans ce second TP**\n",
    "\n",
    "- Un rappel de notre problème et récapitulatif des performances de nos modèles précédents\n",
    "- Une nouvelle méthode numérique pour préparer ses données et faciliter l'apprentissage: la normalisation\n",
    "- La création d'un premier réseau de neurones pour prédire la consommation dans 24h\n",
    "- L'utilisation de tensorboard pour observer en temps réel la courbe d'apprentissage du réseau de neurones\n",
    "- La création de modèles de plus en plus performants en intégrant davantage d'informations dans notre modélisation\n",
    "- L'évaluation des modèles sur 2 types de jeux de test\n",
    "\n",
    "**Ce que vous allez devoir faire**\n",
    "\n",
    "- Compléter les quelques trous de codes que nous vous avons laissé si vous le souhaitez. La solution est disponible dans le TP complété.\n",
    "- Répondre aux quelques questions disséminées dans ce TP\n",
    "- Entrainer votre propre modèle pour améliorer les performances d'un modèle existant et essayer de remporter notre mini-challenge !\n",
    "\n",
    "__NB__ : Pour ce TP nous utiliserons Keras, une bibliothèque python de haut niveau qui appelle des fonctions de la librairie TensorFlow. D'autres librairies existent, Keras a été retenue en raison de sa facilité d'utilisation."
   ]
  },
  {
   "cell_type": "markdown",
   "metadata": {},
   "source": [
    "# Dimensionnement en temps\n",
    "La durée estimée de ce TP est d'environ 1h30 :\n",
    "- 10-20 minutes pour charger et préparer les données pour les réseaux de neurones \n",
    "- 10-20 minutes pour entrainer un premier modèle de réseau de neurones, en examiner le code implémentant ce réseau de neurones\n",
    "- Le reste pour jouer et tenter d'améliorer la qualité de la prédiction avec de nouvelles variables explicatives, ou en choisissant d'autres hyper-paramètres. "
   ]
  },
  {
   "cell_type": "markdown",
   "metadata": {},
   "source": [
    "# I) Préparation des données"
   ]
  },
  {
   "cell_type": "markdown",
   "metadata": {},
   "source": [
    "## Chargement des librairies nécessaires"
   ]
  },
  {
   "cell_type": "code",
   "execution_count": null,
   "metadata": {},
   "outputs": [],
   "source": [
    "import os\n",
    "import numpy as np\n",
    "import pandas as pd\n",
    "import random\n",
    "import datetime\n",
    "from IPython.display import SVG\n",
    "\n",
    "import plotly\n",
    "import matplotlib.pyplot as plt\n",
    "from matplotlib.pyplot import imshow\n",
    "\n",
    "# sklearn est la librairie de machine learning en python et scipy une librairie statistiques\n",
    "from sklearn import preprocessing\n",
    "from sklearn.preprocessing import StandardScaler\n",
    "from scipy import stats\n",
    "\n",
    "#######\n",
    "# Keras est la librairie que nous utilisons pour se créer des modèles de réseau de neurones\n",
    "from keras import layers\n",
    "from keras.layers import Input, Dense, Activation, ZeroPadding2D, BatchNormalization, Flatten, Conv2D\n",
    "from keras.layers import AveragePooling2D, MaxPooling2D, Dropout, GlobalMaxPooling2D, GlobalAveragePooling2D\n",
    "from keras.models import Model\n",
    "from keras.preprocessing import image\n",
    "from keras.utils import layer_utils\n",
    "from keras.utils import plot_model\n",
    "from keras.utils.data_utils import get_file\n",
    "from keras.utils.vis_utils import model_to_dot\n",
    "from keras.applications.imagenet_utils import preprocess_input\n",
    "from IPython.display import SVG\n",
    "from keras.utils.vis_utils import model_to_dot\n",
    "from keras.utils import plot_model\n",
    "\n",
    "import keras.backend as K\n",
    "from keras.models import Sequential, Model\n",
    "from keras.layers import Input, Embedding, LSTM, Dense\n",
    "from keras.callbacks import TensorBoard\n",
    "from time import time\n",
    "\n",
    "import zipfile\n",
    "\n",
    "\n",
    "K.set_image_data_format('channels_last')\n",
    "\n",
    "%matplotlib inline"
   ]
  },
  {
   "cell_type": "markdown",
   "metadata": {},
   "source": [
    "## Localisation des données"
   ]
  },
  {
   "cell_type": "code",
   "execution_count": null,
   "metadata": {},
   "outputs": [],
   "source": [
    "## Choix du répertoire de travail \"data_folder\" dans lequel toutes les fichiers csv seront entreposés\n",
    "\n",
    "# a actualiser avec le repertoire par defaut sur le serveur\n",
    "data_folder = os.path.join(os.getcwd(),\"data\")\n",
    "\n",
    "### Petite vérification\n",
    "print(\"Mon repertoire est : {}\".format(data_folder))\n",
    "print(\"Fichiers contenus dans ce répertoire :\")\n",
    "for file in os.listdir(data_folder):\n",
    "    print(\" - \" + file)"
   ]
  },
  {
   "cell_type": "markdown",
   "metadata": {},
   "source": [
    "## I) Récupération et préparation des données\n",
    "\n",
    "Dans cette partie nous allons charger les fichiers csv nécessaires pour l'analyse, puis les convertir en data-frame python. Les données de base à récupérer sont :\n",
    "- la base de données issues du TP1 (Les historiques de consommation, leur lag, les données météo en température, leur lag, les jours feriés) \n",
    "\n",
    "En terme de transformation des données pour mieux les préparer:\n",
    "\n",
    "- nous allons aussi voir comment normaliser les données, une transformation souvent bien utile en pratique pour une meilleure convergence numérique. \n",
    "\n",
    "Cela vient compléter les transformations vu précédemment pour les données calendaires, et aussi la transformation \"one-hot\" pour les données catégorielles"
   ]
  },
  {
   "cell_type": "markdown",
   "metadata": {},
   "source": [
    "### Récupération de nos variables explicatives XInput"
   ]
  },
  {
   "cell_type": "markdown",
   "metadata": {},
   "source": [
    "#### Les données d'entrée sont encryptées.\n",
    "\n",
    "En effet les données météo sont confidentielles. Pour les lire vous avez besoin d'un mot de passe qui ne peut vous être donné que dans le cadre d'un travail au sein de RTE\n"
   ]
  },
  {
   "cell_type": "code",
   "execution_count": null,
   "metadata": {},
   "outputs": [],
   "source": [
    "password=None#"
   ]
  },
  {
   "cell_type": "code",
   "execution_count": null,
   "metadata": {},
   "outputs": [],
   "source": [
    "Xinput_zip = os.path.join(data_folder, \"Xinput_scaled.zip\")\n",
    "zfXinput = zipfile.ZipFile(Xinput_zip)#.extractall(pwd=bytes(password,'utf-8'))\n",
    "zfXinput.setpassword(bytes(password,'utf-8'))\n",
    "Xinput_scaled = pd.read_csv(zfXinput.open('Xinput_scaled.csv'),sep=\",\",engine='c',header=0)\n",
    "\n",
    "Xinput_scaled['ds']=pd.to_datetime(Xinput_scaled['ds'])\n"
   ]
  },
  {
   "cell_type": "code",
   "execution_count": null,
   "metadata": {},
   "outputs": [],
   "source": [
    "print(\"voici la taille de votre jeu de données\")\n",
    "print(Xinput_scaled.shape)"
   ]
  },
  {
   "cell_type": "markdown",
   "metadata": {},
   "source": [
    "## **Question**\n",
    "Que représentent ici ces dimensions ?"
   ]
  },
  {
   "cell_type": "markdown",
   "metadata": {
    "lines_to_next_cell": 2
   },
   "source": [
    "Votre reponse ici"
   ]
  },
  {
   "cell_type": "code",
   "execution_count": null,
   "metadata": {
    "lines_to_next_cell": 2
   },
   "outputs": [],
   "source": [
    "print(\"voici toutes les variables explicatives que l'on peut utiliser\")\n",
    "#afficher le noms des colonnes de Xinput_scaled ici"
   ]
  },
  {
   "cell_type": "markdown",
   "metadata": {},
   "source": [
    "**Pour Rappel**\n",
    "\n",
    "Les transformations calendaires avaient été appliquées sur la variable de date 'ds' pour extraire les mois et les jours.\n",
    "\n",
    "Les transformations \"one hot\" avaient été utilisées pour transformer les variables catégorielles 'month'(1 à 12) et 'hour' (1 à 24) en 'month_1...month_12' et 'hour_0...hour_23'\n",
    "\n",
    "Les variables retardées d'une journée ont été intégrées\n",
    "\n"
   ]
  },
  {
   "cell_type": "markdown",
   "metadata": {},
   "source": [
    "#### Normalisation des données\n",
    "Enfin nos variables Xinput ont été normalisées.  \n",
    "\n",
    "En théorie, la normalisation des données d'entrée n'est pas indispensable pour entrainer un réseau de neurones. En effet, on devrait apprendre des poids et biais plus ou moins importants pour équilibrer les contributions des différentes variables explicatives en entrée. \n",
    "\n",
    "Cependant en pratique, normaliser les données d'entrée permet généralement d'obtenir un apprentissage plus rapide du réseau de neurones.\n",
    "\n",
    "**Question**: comment l'expliquez-vous ?"
   ]
  },
  {
   "cell_type": "code",
   "execution_count": null,
   "metadata": {},
   "outputs": [],
   "source": [
    "#####\n",
    "#suppression de lignes en doublons si besoin\n",
    "u, indices = np.unique(Xinput_scaled['ds'].get_values(),return_index=True) #on recupere des timeStamps en double ce qui peut arriver après jointure des données\n",
    "Xinput_scaled=Xinput_scaled.iloc[indices]\n",
    "Xinput_scaled.reset_index(drop=True)\n",
    "Xinput_scaled.head(5)"
   ]
  },
  {
   "cell_type": "markdown",
   "metadata": {},
   "source": [
    "### Récupération de nos variables à prédire: la consommation française"
   ]
  },
  {
   "cell_type": "code",
   "execution_count": null,
   "metadata": {},
   "outputs": [],
   "source": [
    "Yconso_csv = os.path.join(data_folder, \"Yconso.csv\")\n",
    "Y = pd.read_csv(Yconso_csv, sep=\",\", engine='c', header=0) \n",
    "Y['ds']=pd.to_datetime(Y['ds'])\n",
    "\n",
    "#####\n",
    "#suppression de lignes en doublons si besoin\n",
    "u, indices = np.unique(Y['ds'].get_values(),return_index=True)\n",
    "Y=Y.iloc[indices]\n",
    "Y.reset_index(drop=True)\n",
    "\n",
    "Y = Y.drop(['Unnamed: 0'], axis=1)\n",
    "Y.head(10)"
   ]
  },
  {
   "cell_type": "markdown",
   "metadata": {},
   "source": [
    "### Tronquer les données"
   ]
  },
  {
   "cell_type": "markdown",
   "metadata": {},
   "source": [
    "Il faut tronquer les données car nous avons rajouté comme variables explicatives des lags sur la consommation et la météo qui n'ont pas de valeurs(NAN) au début de l'historique\n"
   ]
  },
  {
   "cell_type": "code",
   "execution_count": null,
   "metadata": {},
   "outputs": [],
   "source": [
    "nbJourlagRegresseur=7 #du fait du lag de 1 semaine pour la consommation que nous utilisons\n",
    "dateStart = Xinput_scaled.iloc[0]['ds']\n",
    "DateStartWithLag = dateStart + pd.Timedelta(str(nbJourlagRegresseur) + ' days')\n",
    "\n",
    "Xinput_scaled = Xinput_scaled[(Xinput_scaled.ds >= DateStartWithLag)]\n",
    "Xinput_scaled=Xinput_scaled.reset_index(drop=True)\n",
    "\n",
    "Y = Y [(Y.ds >= DateStartWithLag)]\n",
    "Y=Y.reset_index(drop=True)\n",
    "Y.head(10)"
   ]
  },
  {
   "cell_type": "markdown",
   "metadata": {},
   "source": [
    "## II) Création de jeux d'apprentissage et de test\n",
    "\n",
    "**Question** : A quoi servent les jeux d'entrainement, de validation, et de test ?\n",
    "\n",
    "On se crée et on extrait 2 jeux de test de type différent, les données restantes constituant notre jeu d'entrainement-validation.\n",
    "Ces 2 jeux de tests sont établis ainsi:\n",
    " - sélectionner une date de coupure (mai 2017) pour évaluer notre modèle, appris sur un historique, sur une période future.\n",
    " - sélection de quelques dates au hasard en été et en hiver avec la fonction _selectDatesRandomly_ pour établir la performance de notre modèle sur des journées thermosensibles.\n"
   ]
  },
  {
   "cell_type": "code",
   "execution_count": null,
   "metadata": {},
   "outputs": [],
   "source": [
    "def selectDatesRandomly(XwithDs, quarter, nDays, seed=10):\n",
    "    joursQuarter = np.unique(XwithDs.loc[np.where(XwithDs.ds.dt.quarter == quarter)].ds.dt.date)\n",
    "    np.random.seed(seed)\n",
    "    joursSelected = np.random.choice(joursQuarter, replace=False, size=nDays)\n",
    "    return joursSelected"
   ]
  },
  {
   "cell_type": "code",
   "execution_count": null,
   "metadata": {},
   "outputs": [],
   "source": [
    "# 1er jeu de test pour une séquence non vue, a partir du 1er mai 2017 par exemple\n",
    "# 2eme jeu de test pour des jours dans l'historique du jeu d'entrainement, en particulier l'hiver et l'été pour capter l'effet de la température\n",
    "\n",
    "def prepareDataSetEntrainementTest_TP2(Xinput, Yconso, dateDebut, dateRupture, nbJourlagRegresseur=0, njoursEte=10, njoursHiver=10):\n",
    "    \n",
    "    dateStart = Xinput.iloc[0]['ds']\n",
    "    \n",
    "    #les problèmes de données dues au lag sont maintenant gérés lorsque l'on charge les données\n",
    "    #DateStartWithLag = dateStart + pd.Timedelta(str(nbJourlagRegresseur) + ' days')  # si un a un regresseur avec du lag, il faut prendre en compte ce lag et commencer l'entrainement a la date de debut des donnees+ce lag\n",
    "   \n",
    "    #On crée notre jeu de test \"future\" selon la date de rupture souhaitée\n",
    "    XinputTest1 = Xinput[(Xinput.ds >= dateRupture)]\n",
    "    XinputTrain = Xinput[(Xinput.ds < dateRupture) & (Xinput.ds >= dateDebut)] #& (Xinput.ds > DateStartWithLag) \n",
    "    YconsoTrain = Yconso[(Yconso.ds < dateRupture) & (Xinput.ds >= dateDebut)] #& (Yconso.ds > DateStartWithLag)\n",
    "    YconsoTest1 = Yconso[(Yconso.ds >= dateRupture)]\n",
    "    \n",
    "    XinputTrain = XinputTrain.reset_index(drop=True)\n",
    "    YconsoTrain = YconsoTrain.reset_index(drop=True)\n",
    "    \n",
    "    #On crée notre jeu de test \"thermosensible\"\n",
    "    \n",
    "    #On sélectionne des jours d'hiver et d'été\n",
    "    joursHiverSelectionne = selectDatesRandomly(XinputTrain, 4, njoursHiver, seed=10)\n",
    "    print(\"Les jours d'hiver du jeu de test sont : \")\n",
    "    print(joursHiverSelectionne)\n",
    "    \n",
    "    joursEteSelectionne=selectDatesRandomly(XinputTrain, 2, njoursEte, seed=20)\n",
    "    print(\"Les jours d'été du jeu de test sont : \")\n",
    "    print(joursEteSelectionne)\n",
    "    \n",
    "    joursSelectionne = np.append(joursHiverSelectionne, joursEteSelectionne)\n",
    "    \n",
    "    XinputTest2 = XinputTrain[np.in1d(XinputTrain.ds.dt.date, joursSelectionne)]\n",
    "    YconsoTest2 = YconsoTrain[np.in1d(YconsoTrain.ds.dt.date, joursSelectionne)]\n",
    "    \n",
    "    XinputTrain = XinputTrain[~np.in1d(XinputTrain.ds.dt.date, joursSelectionne)]\n",
    "    YconsoTrain = YconsoTrain[~np.in1d(YconsoTrain.ds.dt.date, joursSelectionne)]\n",
    "    \n",
    "    XinputTrain = XinputTrain.reset_index(drop=True)\n",
    "    YconsoTrain = YconsoTrain.reset_index(drop=True)\n",
    "    XinputTest1 = XinputTest1.reset_index(drop=True)\n",
    "    YconsoTest1 = YconsoTest1.reset_index(drop=True)\n",
    "    XinputTest2 = XinputTest2.reset_index(drop=True)\n",
    "    YconsoTest2 = YconsoTest2.reset_index(drop=True)\n",
    "    \n",
    "    XinputTrain = XinputTrain.drop(['ds'],axis=1)\n",
    "    XinputTest1 = XinputTest1.drop(['ds'],axis=1)\n",
    "    XinputTest2 = XinputTest2.drop(['ds'],axis=1)\n",
    "    #indicesJoursEte=np.where(YconsoTrain.ds.dt.quarter==2)\n",
    "    #joursHiver=\n",
    "    #XinputTest2=Xinput[(Xinput.ds>=dateRupture)]\n",
    "    \n",
    "    #XinputTrain.reset_index(drop=True)\n",
    "    #YconsoTrain.reset_index(drop=True)\n",
    "    \n",
    "    return XinputTrain, XinputTest1, XinputTest2, YconsoTrain, YconsoTest1, YconsoTest2"
   ]
  },
  {
   "cell_type": "code",
   "execution_count": null,
   "metadata": {},
   "outputs": [],
   "source": [
    "dateRupture = datetime.datetime(year=2017, month=5, day=1)  # début du challenge prevision de conso\n",
    "dateDebut = datetime.datetime(year=2013, month=1, day=1)  # début du début de l'historique\n",
    "nbJourlagRegresseur = 1\n",
    "\n",
    "XinputTrain, XinputTest1, XinputTest2, YconsoTrain, YconsoTest1, YconsoTest2 = prepareDataSetEntrainementTest_TP2(Xinput_scaled, Y,dateDebut, dateRupture, nbJourlagRegresseur)"
   ]
  },
  {
   "cell_type": "code",
   "execution_count": null,
   "metadata": {},
   "outputs": [],
   "source": [
    "print('la taille de l échantillon XinputTrain est:' + str(XinputTrain.shape[0]))\n",
    "print('la taille de l échantillon XinputTest1 est:' + str(XinputTest1.shape[0]))\n",
    "print('la taille de l échantillon XinputTest2 est:' + str(XinputTest2.shape[0]))\n",
    "print('la taille de l échantillon YconsoTrain est:' + str(YconsoTrain.shape[0]))\n",
    "print('la taille de l échantillon YconsoTest1 est:' + str(YconsoTest1.shape[0]))\n",
    "print('la taille de l échantillon YconsoTest2 est:' + str(YconsoTest2.shape[0]))\n",
    "print('la proportion de data d entrainement est de:' + str(YconsoTrain.shape[0] / (YconsoTrain.shape[0] +YconsoTest2.shape[0]+ YconsoTest1.shape[0])))"
   ]
  },
  {
   "cell_type": "code",
   "execution_count": null,
   "metadata": {},
   "outputs": [],
   "source": [
    "print('Nombre de variables explicatives potentielles: ' + str(XinputTrain.shape[1]))"
   ]
  },
  {
   "cell_type": "markdown",
   "metadata": {},
   "source": [
    "# III) Création d'un modèle de réseau de neurones\n",
    "\n",
    "Jusqu'ici, nous avons importé nos données. Nous les avons ensuite préparées pour les fournir au réseau de neurones (one-hot encoding, normalisation). Nous avons également créé nos jeux d'entrainement et de test.\n",
    "\n",
    "Il est maintenant l'heure de se construire un réseau de neurones, de l'entrainer, et de lui faire faire des prédictions !\n",
    "\n",
    "**Cette partie est générique et indépendante de notre problématique de prévision de consommation**\n",
    "\n",
    "<img src=\"pictures/FirstNeuralNetwork.jpeg\" width=700 height=60>"
   ]
  },
  {
   "cell_type": "markdown",
   "metadata": {},
   "source": [
    "## Deux fonctions bien utiles\n",
    "\n",
    "Nous allons commencer par implémenter deux fonctions que nous appellerons pour chacun des modèles que nous allons tester:\n",
    "- Fonction 1: newKerasModel, pour instancier un modèle de réseau de neurone avant apprentissage\n",
    "- Fonction 2: plotYourNeuralNet, pour visualiser un réseau de neurones"
   ]
  },
  {
   "cell_type": "markdown",
   "metadata": {},
   "source": [
    "### Création d'une architecture de réseau de neurones"
   ]
  },
  {
   "cell_type": "code",
   "execution_count": null,
   "metadata": {
    "lines_to_next_cell": 2
   },
   "outputs": [],
   "source": [
    "##TO DO: compléter les trous laissés dans cette fonction\n",
    "def newKerasModel(nInputs,nOutput=1, hLayers = None):\n",
    "    \"\"\"      \n",
    "    arguments\n",
    "        - nInputs : le nombre de features en entrée\n",
    "        - nOutput : le nombre de sorties, variables à prédire\n",
    "        - hLayers : un vecteur de couches cachées précisant la taille de chaque couchees\n",
    "        \n",
    "    returns\n",
    "        - un objet de type Model \n",
    "    \"\"\"\n",
    "    ##############\n",
    "    ##créer vous un modèle sequentiel avec Keras. = 1ligne\n",
    "    model = None\n",
    "    ###########\n",
    "    if(hLayers==None):\n",
    "        hLayers = [nInputs, nInputs, nInputs, nInputs, nInputs, nInputs]\n",
    "        \n",
    "    nHiddenLayers=len(hLayers)\n",
    "    \n",
    "    #on initialise la première couche \n",
    "    model.add(Dense(hLayers[0], input_dim=nInputs, activation='relu'))\n",
    "    for l in range(nHiddenLayers-1):\n",
    "        ##############\n",
    "        ##ajouter de nouvelles couches aux reseau de neurones avec la taille des couches que vous avez précisé dans hLayers. = 1ligne\n",
    "        \n",
    "        \n",
    "        ############\n",
    "\n",
    "    # Pour une régression, la fonction d'activation finale est simplement la fonction identité\n",
    "    #################\n",
    "    #ajouter une dernière couche qui a la dimensions des outputs et qui utilise une fonction d'activation linéaire\n",
    "    \n",
    "    #########################\n",
    "    \n",
    "    return model"
   ]
  },
  {
   "cell_type": "markdown",
   "metadata": {},
   "source": [
    "### Inspection de l'architecture d'un reseau de neurones\n",
    "On se créé un réseau avec un certains nombre de couches qui peuvent chacune avoir différentes dimensions. On peut ensuite inspecter les dimensions et le nombre de paramètres de ce réseau avec la méthode summary de Keras. "
   ]
  },
  {
   "cell_type": "code",
   "execution_count": null,
   "metadata": {},
   "outputs": [],
   "source": [
    "#on se crée un réseau de neurones avec un certains nombre d'entrées et sorties\n",
    "nInputs = 8 #un choix raisonnable pour visualiser ce modèle ensuite\n",
    "nOutput=1\n",
    "#hiddenLayers=[nInputs,round(nInputs/2),round(nInputs/2)]\n",
    "hiddenLayers=[nInputs,nInputs,nInputs,nInputs,nInputs]\n",
    "modelVide = newKerasModel(nInputs,nOutput,hLayers=hiddenLayers)\n",
    "modelVide.summary()"
   ]
  },
  {
   "cell_type": "markdown",
   "metadata": {},
   "source": [
    "Créons-nous maintenant une fonction pour dessiner ce réseau de neurones"
   ]
  },
  {
   "cell_type": "code",
   "execution_count": null,
   "metadata": {},
   "outputs": [],
   "source": [
    "%run auxiliairyMethodsTP2.py #on charge un fichier où sont définies nos fonctions auxilaires non détaillées dans ce TP\n",
    "import pydot\n",
    "from IPython.display import Image\n",
    "\n",
    "def plotYourNeuralNet(model):\n",
    "    layersModel=[model.input_shape[1]]\n",
    "    for layer in model.layers:\n",
    "        layersModel.append(layer.get_output_at(0).get_shape().as_list()[1])\n",
    "\n",
    "    plotNeuralNet(layersModel)\n",
    "    (graph,) =pydot.graph_from_dot_file('out.dot')\n",
    "    \n",
    "    fileNameImage='yourNeuralNet.png'\n",
    "    graph.write_png(fileNameImage, prog='dot')\n",
    "    img = Image(fileNameImage)\n",
    "    display(img)"
   ]
  },
  {
   "cell_type": "markdown",
   "metadata": {},
   "source": [
    "Visualisons le reseau de neurone test créé précédemment"
   ]
  },
  {
   "cell_type": "code",
   "execution_count": null,
   "metadata": {},
   "outputs": [],
   "source": [
    "plotYourNeuralNet(modelVide)"
   ]
  },
  {
   "cell_type": "markdown",
   "metadata": {},
   "source": [
    "ATTENTION: Pour des grandes tailles de reseau, cette visualisation n est pas adaptée et prendra beaucoup de temps a etre calcule! \n",
    "Le but vise etait ici davantage illustratif."
   ]
  },
  {
   "cell_type": "markdown",
   "metadata": {},
   "source": [
    "## **Defi!**\n",
    "Créez vous un reseau de neurones en forme de noeud papillon."
   ]
  },
  {
   "cell_type": "code",
   "execution_count": null,
   "metadata": {
    "lines_to_next_cell": 2
   },
   "outputs": [],
   "source": [
    "#votre newKerasModel à créer ici\n"
   ]
  },
  {
   "cell_type": "code",
   "execution_count": null,
   "metadata": {
    "lines_to_end_of_cell_marker": 2
   },
   "outputs": [],
   "source": [
    "#afficher votre réseau"
   ]
  },
  {
   "cell_type": "markdown",
   "metadata": {},
   "source": [
    "Bravo ! Vous venez de créer un réseau de neurone d'une classe très particulière: c'est un autoencoder !\n",
    "Pour les curieux, vous pouvez retrouver le bestiaire des réseau de neurones ici: https://rte-france.knowledgeplaza.net/tile/view/47639/"
   ]
  },
  {
   "cell_type": "markdown",
   "metadata": {},
   "source": [
    "## IV) Un premier modèle de réseau de neurones: variables calendaires + lag conso"
   ]
  },
  {
   "cell_type": "markdown",
   "metadata": {},
   "source": [
    "## Choix des variables explicatives\n",
    "\n",
    "pour ce TP, nous avons un jeu d'entrée X contenant beaucoup de variables. Afin de commencer par un modèle simple, nous allons élaguer ce X pour réduire le nombre de features en entrée. Dans ce TP, nous allons donc lister les colonnes à retirer des datasets X initialisés ci-dessus.\n",
    "\n",
    "Pour un cas d'étude réel, une approche pragmatique serait de commencer par se créer un premier X simple, de voir les performances du modèle, puis ensuite d'incorporer de plus en plus de features dans le X pour évaluer la progression des performances de nos modèles.\n",
    "Toutefois en deep learning de premiers essais sont souvent réalisés en utilisant en entrée toute l'information disponible du fait de leur capacité à \"digérer\" la donnée, en se nourrissant d'informations redondantes.\n",
    "D'un point de vue pédagogique, nous allons commencer avec la première approche.\n",
    "\n",
    "Pour le premier réseau de neurones que nous allons entrainer, nous allons simplement garder les variables calendaires de Xinput."
   ]
  },
  {
   "cell_type": "code",
   "execution_count": null,
   "metadata": {},
   "outputs": [],
   "source": [
    "# Initialement\n",
    "XinputTrain.head()"
   ]
  },
  {
   "cell_type": "markdown",
   "metadata": {},
   "source": [
    "On sélectionne les variables que l'on souhaite conserver en précisant simplement à quelle catégorie elles appartiennent.\n"
   ]
  },
  {
   "cell_type": "code",
   "execution_count": null,
   "metadata": {},
   "outputs": [],
   "source": [
    "#on précise le type de variable que l'on veut conserver par une abbréviation: \n",
    "# par exemple pour sélectionner les variables associées à tous les mois, on utilise l'abbréviation month, qui sélectionenra month_1, month_2 etc...\n",
    "colsType= ['lag1D','month','hour','dayOfWeek']\n",
    "#any(ext in colsType for ext in extensionsToCheck)\n",
    "colsToKeep=[s for s in Xinput_scaled.columns.get_values() if any(cs in s for cs in colsType)]\n",
    "\n",
    "if('ds' in colsToKeep):#cette variable a été décomposée en mois, heure, jour et n'est plus une variable d'intérêt\n",
    "    colsToKeep.remove('ds')\n"
   ]
  },
  {
   "cell_type": "markdown",
   "metadata": {},
   "source": [
    "On restreint nos jeux d'entrainement et de tests à ces variables"
   ]
  },
  {
   "cell_type": "code",
   "execution_count": null,
   "metadata": {},
   "outputs": [],
   "source": [
    "X = XinputTrain[colsToKeep]\n",
    "XTest1 = XinputTest1[colsToKeep]\n",
    "XTest2 = XinputTest2[colsToKeep]"
   ]
  },
  {
   "cell_type": "code",
   "execution_count": null,
   "metadata": {},
   "outputs": [],
   "source": [
    "# Après élagage des variables\n",
    "print(X.columns)\n",
    "print(X.shape)\n",
    "print(XTest1.shape)\n",
    "print(XTest2.shape)"
   ]
  },
  {
   "cell_type": "markdown",
   "metadata": {},
   "source": [
    "## Création du réseau de neurones et hyper-paramétrage\n",
    "Un réseau de neurones profond est constuitué d'un certains nombre de couches, chacune portant un certain nombre de neurones. Ce sont 2 hyperparamètres que vous pouvez faire varier et qui vous permettront d'obtenir un apprentissage plus ou moins précis, en utilisant plus ou moins de puissance de calcul.\n",
    "\n",
    "Le \"learning rate\" de l'optimiseur est également un hyperparamètre qui influencera la convergence et la vitesse de convergence de l'apprentissage, où l'on cherche à optimiser notre modèle pour minimiser l'erreur de prédiction. "
   ]
  },
  {
   "cell_type": "code",
   "execution_count": null,
   "metadata": {},
   "outputs": [],
   "source": [
    "nInputs = X.shape[1]#nombre d'entrées du modèle\n",
    "nOutput=1\n",
    "hiddenLayers=[nInputs,nInputs,nInputs,nInputs,nInputs]\n",
    "\n",
    "first_model = newKerasModel(nInputs,nOutput, hiddenLayers)"
   ]
  },
  {
   "cell_type": "code",
   "execution_count": null,
   "metadata": {},
   "outputs": [],
   "source": [
    "first_model.compile(loss='mean_squared_error', optimizer='adam', metrics=['mean_absolute_percentage_error'])"
   ]
  },
  {
   "cell_type": "code",
   "execution_count": null,
   "metadata": {},
   "outputs": [],
   "source": [
    "# On crée ici une instance de l'utilitaire tensorboard qui va nous permettre de visualiser les courbes d'apprnetissage de nos différents modèles.\n",
    "#cf explication après la section Entrainement\n",
    "from keras.callbacks import TensorBoard\n",
    "from time import time\n",
    "tensorboard = TensorBoard(log_dir=\"logs/{}\".format(\"first_model_\" +str(time())))"
   ]
  },
  {
   "cell_type": "markdown",
   "metadata": {},
   "source": [
    "## Entrainement\n",
    "\n",
    "La cellule suivante peut prendre un peu de temps à s'exécuter. On reconnait là la méthode fit commune à chaque modèle de machine learning pour entraîner son modèle."
   ]
  },
  {
   "cell_type": "code",
   "execution_count": null,
   "metadata": {},
   "outputs": [],
   "source": [
    "# Fit the model\n",
    "\n",
    "#en terme de paramètres:\n",
    "#epoch: on précise le nombre d'epochs (le nombre de fois que l'on voit le jeu d'apprentissage en entier)\n",
    "#batch size: le nombre d'exemples sur lequel on fait un \"pas\" d'apprentissage parmi tout le jeu\n",
    "#validation_split: la proportion d'exemples que l'on conserve pour notre jeu de validation\n",
    "#callbacks: pour appeler des utilitaires/fonctions externes pour récupérer des résultats\n",
    "first_model.fit(X, YconsoTrain['y'], epochs=100, batch_size=100, validation_split=0.1, callbacks=[tensorboard])"
   ]
  },
  {
   "cell_type": "markdown",
   "metadata": {},
   "source": [
    "## Question\n",
    "D'après les informations de logs exposées ici, quelle semble être la perfomance atteinte par votre réseau de neurones ? \n"
   ]
  },
  {
   "cell_type": "markdown",
   "metadata": {
    "lines_to_next_cell": 2
   },
   "source": [
    "Votre réponse ici"
   ]
  },
  {
   "cell_type": "markdown",
   "metadata": {},
   "source": [
    "# Tensorboard\n",
    "c'est un utilitaire de tensorflow qui permet de visualiser en temps réel les courbes d'apprentissage des réseau de neurones et est donc utile pour arrêter l'apprentissage si les progrès sont faibles.\n",
    "\n",
    "En particulier, vous pouvez vous intéresser à la courbe de l'erreur (loss) d'entrainement et de validation pour visualiser la progression de l'apprentissage et une tendance au surapprentissage en fin d'apprentissage.\n",
    "\n",
    "<img src=\"pictures/CourbesTensorboard.png\" width=1000 height=60>\n",
    "\n",
    "**Pour ouvrir une fenêtre tensorboard, revenez sur la page d'accueil de Jupyter, placez vous dans le dossier logs dans lequel se trouve les logs de vos entrainement, puis cliquez sur New (en haut à droite) et enfin sur Tensorboard**\n",
    "Une fenêtre pop-up doit s'ouvrir. Si elle est bloquée, autorisez son ouverture."
   ]
  },
  {
   "cell_type": "markdown",
   "metadata": {},
   "source": [
    "## **Question**\n",
    "Vous devriez visualiser les courbes de 2 modèles: celui que vous venez d'entrainer et un modèle qui avait été entrainé de la même manière mais avec des donénes non normalisée. Que constatez-vous ? Comment l'expliquez-vous ?\n"
   ]
  },
  {
   "cell_type": "markdown",
   "metadata": {
    "lines_to_next_cell": 2
   },
   "source": [
    "Votre réponse ici"
   ]
  },
  {
   "cell_type": "markdown",
   "metadata": {},
   "source": [
    "## Evaluation de la qualité du modèle"
   ]
  },
  {
   "cell_type": "code",
   "execution_count": null,
   "metadata": {},
   "outputs": [],
   "source": [
    "predictionsTrain = first_model.predict(X).reshape(-1)\n",
    "predictionsTest1 = first_model.predict(XTest1).reshape(-1)\n",
    "predictionsTest2 = first_model.predict(XTest2).reshape(-1)\n",
    "print(predictionsTrain)"
   ]
  },
  {
   "cell_type": "code",
   "execution_count": null,
   "metadata": {},
   "outputs": [],
   "source": [
    "evaluation(YconsoTrain, YconsoTest1, predictionsTrain, predictionsTest1)\n",
    "plt.plot(YconsoTest1['ds'], YconsoTest1['y'], 'b')\n",
    "plt.plot(YconsoTest1['ds'], predictionsTest1, 'r')\n",
    "\n",
    "plt.title(\"Evolution de l'erreur sur le test 1\")\n",
    "plt.show()"
   ]
  },
  {
   "cell_type": "code",
   "execution_count": null,
   "metadata": {},
   "outputs": [],
   "source": [
    "evaluation(YconsoTrain, YconsoTest2, predictionsTrain, predictionsTest2)\n",
    "\n",
    "plt.plot(YconsoTest2['y'], 'b')\n",
    "plt.plot(predictionsTest2, 'r')\n",
    "\n",
    "plt.title(\"Evolution de l'erreur sur le test2\")\n",
    "plt.show()"
   ]
  },
  {
   "cell_type": "markdown",
   "metadata": {},
   "source": [
    "L'erreur est ici comparable à celle des autres modèles en machine Learning (random forest, xgboost). Cela peut nous conforter dans le fait que notre réseau de neurones s'est créé de bonnes représentations pour ces variables calendaires. \n",
    "\n",
    "La différence en performance peut devenir plus flagrante lorsque l'on intègre des variables à une maille très granulaire (les pixels d'une images, la température dans toutes les villes de France) avec une forte interdépendance."
   ]
  },
  {
   "cell_type": "code",
   "execution_count": null,
   "metadata": {},
   "outputs": [],
   "source": [
    "ErreursTest1, ErreurMoyenneTest, ErreurMaxTest, RMSETest = modelError(YconsoTest1, predictionsTest1)\n",
    "num_bins=100\n",
    "plt.hist(ErreursTest1, num_bins)\n",
    "plt.show()"
   ]
  },
  {
   "cell_type": "markdown",
   "metadata": {},
   "source": [
    "Pour inspecter dynamiquement des visualisations, la librairie plotly se révèle très utile.\n",
    "Ci-dessous vous pouvez identifier les jours et heures qui présentent les erreurs les plus importantes pour ensuite imaginer ce qui a pu pêcher."
   ]
  },
  {
   "cell_type": "code",
   "execution_count": null,
   "metadata": {},
   "outputs": [],
   "source": [
    "from plotly.offline import download_plotlyjs, init_notebook_mode, plot, iplot, iplot_mpl\n",
    "init_notebook_mode(connected=True)\n",
    "iplot([{\"x\": YconsoTest1['ds'], \"y\": ErreursTest1}])"
   ]
  },
  {
   "cell_type": "markdown",
   "metadata": {},
   "source": [
    "## **Question**\n",
    "Quelles sont les heures ou les journées avec les erreurs les plus importantes. Avez-vous une idée à quoi pourrait correspondre ces heures ou ces jours ?\n"
   ]
  },
  {
   "cell_type": "markdown",
   "metadata": {
    "lines_to_next_cell": 2
   },
   "source": [
    "Votre réponse ici"
   ]
  },
  {
   "cell_type": "markdown",
   "metadata": {},
   "source": [
    "# A vous de jouer, faites fonctionner vos neurones :\n",
    "\n",
    "Il peut y avoir différents objectifs de performance selon le besoin. En général on cherche un compromis entre la précision du modèle et la puissance de calcul nécessaire pour entraîner et faire tourner ce modèle.\n",
    "\n",
    "Nous décernerons 2 récompenses!\n",
    "\n",
    "- Défi 1: le modèle le plus précis.\n",
    "- Défi 2: le modèle le plus frugal moyennant une perte de précision.\n",
    "Les critères sont encore à affiner ensemble!\n",
    "\n",
    "<img src=\"pictures/we-need-you.png\" width=500 height=60>\n",
    "\n"
   ]
  },
  {
   "cell_type": "markdown",
   "metadata": {},
   "source": [
    "# **Challenge**: entrainez et testez votre nouveau modèle avec de nouvelles variables et paramètres choisies\n",
    "\n",
    "N'hésitez pas à vous inspirer par le code ci-dessus ;-)\n",
    "venez partager vos investigations sur cette google sheet : https://docs.google.com/spreadsheets/d/1oIx8jjzIh7Ugp3ZJMCOEwns6KCJxo4ua_jW5hIvjjFI/edit?usp=sharing"
   ]
  },
  {
   "cell_type": "markdown",
   "metadata": {},
   "source": [
    "# Votre modèle "
   ]
  },
  {
   "cell_type": "markdown",
   "metadata": {},
   "source": [
    "## Rappel des variables explicatives à disposition"
   ]
  },
  {
   "cell_type": "code",
   "execution_count": null,
   "metadata": {},
   "outputs": [],
   "source": [
    "# Initialement\n",
    "XinputTrain.columns.get_values()"
   ]
  },
  {
   "cell_type": "markdown",
   "metadata": {},
   "source": [
    "## Choix des variables explicatives"
   ]
  },
  {
   "cell_type": "markdown",
   "metadata": {},
   "source": [
    "On sélectionne les variables que l'on souhaite conserver en précisant simplement à quelle catégorie elles appartiennent."
   ]
  },
  {
   "cell_type": "code",
   "execution_count": null,
   "metadata": {},
   "outputs": [],
   "source": [
    "#########\n",
    "#TO DO\n",
    "#Préciser le type de variable que l'on veut conserver par une abbréviation\n",
    "colsType=  [] #['lag1D','month','hour','dayOfWeek']\n",
    "\n",
    "#Fin TO DO\n",
    "#########\n",
    "\n",
    "colsToKeep=[s for s in Xinput.columns.get_values() if any(cs in s for cs in colsType)]\n",
    "\n",
    "if('ds' in colsToKeep):#cette variable a été décomposée en mois, heure, jour et n'est plus une variable d'intérêt\n",
    "    colsToKeep.remove('ds')"
   ]
  },
  {
   "cell_type": "code",
   "execution_count": null,
   "metadata": {},
   "outputs": [],
   "source": [
    "X = XinputTrain[colsToKeep]\n",
    "XTest1 = XinputTest1[colsToKeep]\n",
    "XTest2 = XinputTest2[colsToKeep]"
   ]
  },
  {
   "cell_type": "code",
   "execution_count": null,
   "metadata": {},
   "outputs": [],
   "source": [
    "# Après élagage\n",
    "print(X.columns)\n",
    "print(X.shape)\n",
    "print(XTest1.shape)\n",
    "print(XTest2.shape)"
   ]
  },
  {
   "cell_type": "markdown",
   "metadata": {},
   "source": [
    "## Création du réseau de neurones, hyper-paramétrage"
   ]
  },
  {
   "cell_type": "markdown",
   "metadata": {},
   "source": [
    "Vous pouvez jouer sur l'architecture de votre reseau de neurones ici en précisant le nombre de couches et la taille des couches dans le vecteur hiddenLayers"
   ]
  },
  {
   "cell_type": "code",
   "execution_count": null,
   "metadata": {},
   "outputs": [],
   "source": [
    "nInputs = X.shape[1]#nombre d'entrées du modèle\n",
    "nOutput=1\n",
    "\n",
    "##votre choix\n",
    "hiddenLayers=[nInputs,nInputs,nInputs,nInputs,nInputs]\n",
    "####\n",
    "\n",
    "votre_model_scaled_1 = newKerasModel(nInputs,nOutput, hiddenLayers)"
   ]
  },
  {
   "cell_type": "code",
   "execution_count": null,
   "metadata": {},
   "outputs": [],
   "source": [
    "votre_model_scaled_1.compile(loss='mean_squared_error', optimizer='adam', metrics=['mean_absolute_percentage_error'])"
   ]
  },
  {
   "cell_type": "markdown",
   "metadata": {},
   "source": [
    "# Tensorboard\n",
    "c'est un utilitaire de tensorflow qui permet de visualiser en temps réel les courbes d'apprentissage des réseau de neurones et est donc utile pour arrêter l'apprentissage si les progrès sont faibles."
   ]
  },
  {
   "cell_type": "code",
   "execution_count": null,
   "metadata": {},
   "outputs": [],
   "source": [
    "# Ajouter la ligne ci-dessous lève le problème\n",
    "from keras.callbacks import TensorBoard\n",
    "from time import time\n",
    "\n",
    "#preciser le nom de votre modele avec les variables utilisees pour le visualiser dans tensorboard\n",
    "nomModele=None#'votre_model_scaled_nomVariables'\n",
    "tensorboard = TensorBoard(log_dir=\"logs/{}\".format(nomModele +str(time())))"
   ]
  },
  {
   "cell_type": "markdown",
   "metadata": {},
   "source": [
    "## Entrainement\n",
    "\n",
    "La cellule suivante peut prendre un peu de temps à s'exécuter."
   ]
  },
  {
   "cell_type": "code",
   "execution_count": null,
   "metadata": {},
   "outputs": [],
   "source": [
    "# Fit the model\n",
    "votre_model_scaled_1.fit(X, YconsoTrain['y'], epochs=150, batch_size=100, validation_split=0.1, callbacks=[tensorboard])"
   ]
  },
  {
   "cell_type": "markdown",
   "metadata": {},
   "source": [
    "## Evaluation de la qualité du modèle"
   ]
  },
  {
   "cell_type": "code",
   "execution_count": null,
   "metadata": {},
   "outputs": [],
   "source": [
    "predictionsTrain = votre_model_scaled_1.predict(X).reshape(-1)\n",
    "predictionsTest1 = votre_model_scaled_1.predict(XTest1).reshape(-1)\n",
    "predictionsTest2 = votre_model_scaled_1.predict(XTest2).reshape(-1)\n",
    "print(predictionsTrain)"
   ]
  },
  {
   "cell_type": "code",
   "execution_count": null,
   "metadata": {},
   "outputs": [],
   "source": [
    "evaluation(YconsoTrain, YconsoTest1, predictionsTrain, predictionsTest1)\n",
    "plt.plot(YconsoTest1['ds'], YconsoTest1['y'], 'b')\n",
    "plt.plot(YconsoTest1['ds'], predictionsTest1, 'r')\n",
    "\n",
    "plt.title(\"Evolution de l'erreur sur le test 1\")\n",
    "plt.show()"
   ]
  },
  {
   "cell_type": "code",
   "execution_count": null,
   "metadata": {},
   "outputs": [],
   "source": [
    "evaluation(YconsoTrain, YconsoTest2, predictionsTrain, predictionsTest2)\n",
    "\n",
    "plt.plot(YconsoTest2['y'], 'b')\n",
    "plt.plot(predictionsTest2, 'r')\n",
    "\n",
    "plt.title(\"Evolution de l'erreur sur le test2\")\n",
    "plt.show()"
   ]
  },
  {
   "cell_type": "markdown",
   "metadata": {},
   "source": [
    "L'erreur est ici comparable à celle de Prophet (5,8%) qui modèle nativement la notion de temps. Cela peut nous conforter dans le fait que notre réseau de neurones s'est créé de bonnes représentations pour ces variables calendaires"
   ]
  },
  {
   "cell_type": "code",
   "execution_count": null,
   "metadata": {},
   "outputs": [],
   "source": [
    "ErreursTest1, ErreurMoyenneTest, ErreurMaxTest, RMSETest = modelError(YconsoTest1, predictionsTest1)\n",
    "num_bins=100\n",
    "plt.hist(ErreursTest1, num_bins)\n",
    "plt.show()"
   ]
  },
  {
   "cell_type": "code",
   "execution_count": null,
   "metadata": {
    "lines_to_next_cell": 2
   },
   "outputs": [],
   "source": [
    "init_notebook_mode(connected=True)\n",
    "iplot([{\"x\": YconsoTest1['ds'], \"y\": ErreursTest1}])"
   ]
  },
  {
   "cell_type": "markdown",
   "metadata": {},
   "source": [
    "# Pour aller encore plus loin\n",
    "\n",
    "Le modèle ci-dessus peut être rendu encore plus performant par exemple en considérant des features comme \"jour d'avant vacances\", \"jour d'après vacances\"... \n",
    "\n",
    "Passer du temps à tuner les hyper-paramètres serait certainement bénéfique aussi.\n",
    "\n",
    "De manière assez surprenante, élargir le réseau de neurones pour prédire les consommations régionales peut également améliorer la qualité de la prédiction de l'échelle nationale. C'est l'idée du multi-tasking.\n",
    "\n",
    "On pourra également considérer en sortie du modèle non pas la prédiction pour juste 24 heures plus tard, mais plutôt pour une plage horaire  \n",
    "[1 heure plus tard, ..., 24 heures plus tard]. Ceci permet de capter des dynamiques.\n",
    "\n",
    "\n",
    "Des pistes:\n",
    "insérer le lag Jours_Feries_J-1\n",
    "voir si un intérêt à passer toutes les stations ou seulement la température France avec expertise sur importance des stations (en fait ça suffit avec les stations fournies!)\n"
   ]
  },
  {
   "cell_type": "markdown",
   "metadata": {},
   "source": [
    "## Exemple d apprentissage avec differentes variables\n"
   ]
  },
  {
   "cell_type": "markdown",
   "metadata": {},
   "source": [
    "### **Question**\n",
    "Saurez-vous retrouver les variables utilisé pour ces differents apprentissages ?\n",
    "A piocher parmi variables calendaires,lag de conso, tempreature, jours feries\n",
    "\n",
    "<img src=\"pictures/ResultsApprentissages.png\" width=500 height=50>"
   ]
  },
  {
   "cell_type": "code",
   "execution_count": null,
   "metadata": {},
   "outputs": [],
   "source": []
  }
 ],
 "metadata": {
  "jupytext": {
   "formats": "ipynb,py"
  },
  "kernelspec": {
   "display_name": "Python 3",
   "language": "python",
   "name": "python3"
  }
 },
 "nbformat": 4,
 "nbformat_minor": 2
}
